{
 "cells": [
  {
   "cell_type": "markdown",
   "metadata": {
    "deletable": false,
    "editable": false,
    "run_control": {
     "frozen": true
    }
   },
   "source": [
    "# Introduksjon til bruk av Python i mekanikk-kursene"
   ]
  },
  {
   "cell_type": "markdown",
   "metadata": {
    "deletable": false,
    "editable": false,
    "run_control": {
     "frozen": true
    }
   },
   "source": [
    "Innhold:\n",
    "\n",
    "- Hva er jupyter notebooks?\n",
    "- Hvorfor bruke jupyter notebooks?\n",
    "- Verktøylinja\n",
    "- Kjøre kode-celler\n",
    "\n",
    "\n",
    "- Variabler i jupyter Notebooks\n",
    "- Eksempel på øvingsoppgave\n",
    "- Importere biblioteker\n",
    "- Hva er numpy og hva finnes her?\n",
    "    - Numpy-lister vs. vanlige Python lister\n",
    "    - Listeoperasjoner i numpy\n",
    "    - Største og minste verdi i en liste\n",
    "- Hva er Matplotlib og hva finnes her?\n",
    "    - Hvordan lage figurer\n",
    "\n",
    "- Online dokumentasjon for Python\n",
    "    - Google (og Stack-overflow) er din venn\n",
    "\n",
    "- Hvordan hente notebooks fra serveren?\n",
    "- Levere øving"
   ]
  },
  {
   "cell_type": "markdown",
   "metadata": {
    "deletable": false,
    "editable": false,
    "run_control": {
     "frozen": true
    }
   },
   "source": [
    "# Verktøylinja\n",
    "\n",
    "    - Lagre (save)\n",
    "    - Markdown / Code / Heading - Dropdown - liste\n",
    "    - Command palette\n",
    "    - Cell\n",
    "    "
   ]
  },
  {
   "cell_type": "markdown",
   "metadata": {
    "deletable": false,
    "editable": false,
    "run_control": {
     "frozen": true
    }
   },
   "source": [
    "# Kjøre Kode-celler\n",
    "\n",
    "   - Run cells\n",
    "   - Shift + Enter\n",
    "   - Verktøylinje button\n",
    "   <br><br>\n",
    "   - \"Run all\" under Cell-meny i vektøylinje"
   ]
  },
  {
   "cell_type": "markdown",
   "metadata": {
    "deletable": false,
    "editable": false,
    "run_control": {
     "frozen": true
    }
   },
   "source": [
    "# Variabler i jupyter notebooks"
   ]
  },
  {
   "cell_type": "markdown",
   "metadata": {
    "deletable": false,
    "editable": false,
    "run_control": {
     "frozen": true
    }
   },
   "source": [
    "## Hello, world! "
   ]
  },
  {
   "cell_type": "code",
   "execution_count": null,
   "metadata": {
    "ExecuteTime": {
     "end_time": "2023-01-18T13:48:52.347831Z",
     "start_time": "2023-01-18T13:48:52.336122Z"
    },
    "scrolled": true
   },
   "outputs": [],
   "source": [
    "print('Hello, world!')"
   ]
  },
  {
   "cell_type": "code",
   "execution_count": null,
   "metadata": {
    "ExecuteTime": {
     "end_time": "2023-01-18T13:48:52.390689Z",
     "start_time": "2023-01-18T13:48:52.355947Z"
    }
   },
   "outputs": [],
   "source": [
    "streng = \"Hello, world!\"\n",
    "print(streng)"
   ]
  },
  {
   "cell_type": "markdown",
   "metadata": {
    "deletable": false,
    "editable": false,
    "run_control": {
     "frozen": true
    }
   },
   "source": [
    "## Eksempler på variabeloverskrivning"
   ]
  },
  {
   "cell_type": "code",
   "execution_count": null,
   "metadata": {
    "ExecuteTime": {
     "end_time": "2023-01-18T13:48:52.431324Z",
     "start_time": "2023-01-18T13:48:52.398126Z"
    }
   },
   "outputs": [],
   "source": [
    "a=2"
   ]
  },
  {
   "cell_type": "code",
   "execution_count": null,
   "metadata": {
    "ExecuteTime": {
     "end_time": "2023-01-18T13:48:52.471829Z",
     "start_time": "2023-01-18T13:48:52.440211Z"
    },
    "scrolled": true
   },
   "outputs": [],
   "source": [
    "b=3"
   ]
  },
  {
   "cell_type": "code",
   "execution_count": null,
   "metadata": {
    "ExecuteTime": {
     "end_time": "2023-01-18T13:48:52.522758Z",
     "start_time": "2023-01-18T13:48:52.490132Z"
    }
   },
   "outputs": [],
   "source": [
    "c=a+b\n",
    "print(c)"
   ]
  },
  {
   "cell_type": "code",
   "execution_count": null,
   "metadata": {
    "ExecuteTime": {
     "end_time": "2023-01-18T13:48:52.563421Z",
     "start_time": "2023-01-18T13:48:52.529932Z"
    }
   },
   "outputs": [],
   "source": [
    "a=5"
   ]
  },
  {
   "cell_type": "markdown",
   "metadata": {
    "deletable": false
   },
   "source": [
    "# Eksempel på oppgave\n",
    "\n",
    "Grønt felt markerer oppgaver som skal løses. \n",
    "Ved noen oppgaver gis hint eller løsningsforslag. \n",
    "\n",
    "<div class=\"alert alert-success\">\n",
    "\n",
    "- Beregn 2⁵\n",
    "\n",
    "</div>"
   ]
  },
  {
   "cell_type": "code",
   "execution_count": null,
   "metadata": {
    "ExecuteTime": {
     "end_time": "2023-01-18T13:48:52.623216Z",
     "start_time": "2023-01-18T13:48:52.573066Z"
    },
    "solution2": "hidden",
    "solution2_first": true
   },
   "outputs": [],
   "source": [
    "2**5"
   ]
  },
  {
   "cell_type": "markdown",
   "metadata": {
    "deletable": false,
    "editable": false,
    "run_control": {
     "frozen": true
    },
    "solution2": "hidden"
   },
   "source": [
    "<b>Hint!</b> Bruk potensoperatoren i Python: 2**5"
   ]
  },
  {
   "cell_type": "markdown",
   "metadata": {},
   "source": [
    "***\n",
    "## Hvordan importere et bibliotek\n",
    "\n",
    "```python\n",
    "import numpy as np\n",
    "import matplotlib.pyplot as plt\n",
    "```\n",
    "\n",
    "Hvor `np` og `plt` er kallenavnet vi har gitt NumPy og matplotlib.\n",
    "\n",
    "\n",
    "\n",
    "Her er noen eksempler på bruk:\n",
    "```python\n",
    "np.sin(np.pi / 2.0)     # np.sin regner ut sinus av hva som er i parentesen. np.pi returnerer 3.1415....\n",
    "np.arctan(3.5)          \n",
    "np.exp(2)               # regner her ut e^2\n",
    "plt.plot(x,y)\n",
    "plt.show()\n",
    "```"
   ]
  },
  {
   "cell_type": "markdown",
   "metadata": {},
   "source": [
    "## Hva er NumPy?\n",
    "---\n",
    "\n",
    "<div class=\"alert alert-success\">\n",
    "    \n",
    "I kodeblokken under skal du først importere NumPy som forklart over. Deretter skal du regne ut følgende tre uttrykk \n",
    "\n",
    "\\begin{equation}\n",
    "a = \\sin \\left( \\frac{3}{7}\\pi\\right)  \n",
    "\\\\\n",
    "b = e^{2/3}\n",
    "\\\\\n",
    "c = \\ln \\left(a^{2} \\cdot b\\right)\n",
    "\\end{equation}\n",
    "\n",
    "Til slutt skal du printe ut resultatet ved bruk av `print()`.   \n",
    "    \n"
   ]
  },
  {
   "cell_type": "code",
   "execution_count": null,
   "metadata": {},
   "outputs": [],
   "source": [
    "import numpy as np"
   ]
  },
  {
   "cell_type": "code",
   "execution_count": null,
   "metadata": {
    "ExecuteTime": {
     "end_time": "2023-01-19T12:33:24.996903Z",
     "start_time": "2023-01-19T12:33:24.749674Z"
    }
   },
   "outputs": [],
   "source": [
    "a=np.sin(3/7*np.pi)\n",
    "b=np.exp(2/3)\n",
    "c=np.log(a**2*b)"
   ]
  },
  {
   "cell_type": "markdown",
   "metadata": {},
   "source": [
    "## Lister og numpy-lister\n",
    "\n",
    "Lister er innebygd i python og skilles med komma mellom hvert element. En liste kan bestå av ulike datatyper (heltall, strenger, desimaltall ++). Elementer kan legges til og fjernes etter at en liste er opprettet. \n",
    "\n",
    "Numpy-lister, også kalt arrays, må man importere numpy for å bruke. Arrays er svært nyttige for matematiske operasjoner, da de direkte kan brukes i beregninger. Lister kan også brukes i beregninger, men det er ikke like enkelt som med arrays i mange tilfeller. Vi kommer derfor til å bruke numpy-lister (arrays) mye i pythonøvingene. "
   ]
  },
  {
   "cell_type": "code",
   "execution_count": null,
   "metadata": {
    "ExecuteTime": {
     "end_time": "2023-01-18T14:27:35.277959Z",
     "start_time": "2023-01-18T14:27:35.266064Z"
    }
   },
   "outputs": [],
   "source": [
    "vektor1 = [1,2,3]*2\n",
    "vektor2 = np.array([1,2,3])*2\n",
    "\n",
    "print(vektor1)\n",
    "print(vektor2)"
   ]
  },
  {
   "cell_type": "code",
   "execution_count": null,
   "metadata": {
    "ExecuteTime": {
     "end_time": "2023-01-18T14:31:07.368627Z",
     "start_time": "2023-01-18T14:31:07.355745Z"
    }
   },
   "outputs": [],
   "source": [
    "x = [1, 2, 3, 4]\n",
    "x2 = np.array([1,2,3,4])\n",
    "y = np.sin(x)\n",
    "y2 = np.sin(x2)\n",
    "#z = np.divide(x,2.0)\n",
    "#z2 = x2/2\n",
    "\n",
    "\n",
    "print(y)\n",
    "print(y2)"
   ]
  },
  {
   "cell_type": "markdown",
   "metadata": {
    "deletable": false,
    "editable": false,
    "run_control": {
     "frozen": true
    }
   },
   "source": [
    "## Hva er matplotlib?"
   ]
  },
  {
   "cell_type": "markdown",
   "metadata": {},
   "source": [
    "<div class=\"alert alert-success\">\n",
    "Plot de to y-vektorene som funksjon av x-vektor: \n",
    "    \n",
    "- x_vektor = $[1, 2, 3, 4]$ \n",
    "- y_vektor = $[9.0, 8.4, 7.7, 6.9]$\n",
    "- y_vektor2 = $[10.0, 8.5, 7.2, 6.1]$\n",
    "\n",
    "</div>"
   ]
  },
  {
   "cell_type": "code",
   "execution_count": null,
   "metadata": {},
   "outputs": [],
   "source": [
    "import matplotlib.pyplot as plt\n",
    "x = np.linspace(0, 10, 11)\n",
    "y = np.linspace(0, 10, 11)\n",
    "plt.plot(x, y)\n",
    "plt.xlabel(\"lengde\")\n",
    "plt.ylabel(\"høyde\")\n",
    "plt.show()"
   ]
  },
  {
   "cell_type": "code",
   "execution_count": null,
   "metadata": {
    "ExecuteTime": {
     "end_time": "2023-01-19T12:33:32.225030Z",
     "start_time": "2023-01-19T12:33:31.359285Z"
    }
   },
   "outputs": [],
   "source": [
    "\n",
    " \n",
    "x_vektor  = np.array([1   , 2  , 3  , 4  ])\n",
    "y_vektor  = np.array([9.0 , 8.4, 7.7, 6.9])\n",
    "y_vektor2 = np.array([10.0, 8.5, 7.2, 6.1])\n",
    "\n",
    "plt.plot(x_vektor, y_vektor)\n",
    "plt.plot(x_vektor, y_vektor2)\n",
    "plt.xlabel('x')\n",
    "plt.ylabel('y')\n",
    "plt.title('Eksempel')\n",
    "plt.show()\n"
   ]
  },
  {
   "cell_type": "markdown",
   "metadata": {
    "deletable": false,
    "editable": false,
    "run_control": {
     "frozen": true
    }
   },
   "source": [
    "# Demonstrajon av Matplotlib og NumPy i samspill"
   ]
  },
  {
   "cell_type": "markdown",
   "metadata": {},
   "source": [
    "<div class=\"alert alert-success\">\n",
    "\n",
    "Plot to sinusfunksjoner med ulik oppløsning. bruk domenet der $x \\in [0,2\\pi]$. \n",
    "\n",
    "\n",
    "</div>"
   ]
  },
  {
   "cell_type": "code",
   "execution_count": null,
   "metadata": {
    "ExecuteTime": {
     "end_time": "2023-01-19T12:33:34.648595Z",
     "start_time": "2023-01-19T12:33:34.236149Z"
    }
   },
   "outputs": [],
   "source": [
    "# Først bruker vi numpy til å sette opp to funksjoner med 9 og 101 elementer\n",
    "x1 = np.linspace(0.0, 2.0*np.pi, 9)\n",
    "x2 = np.linspace(0.0, 2.0*np.pi, 101)\n",
    "\n",
    "# Deretter mater vi disse inn i NumPys sinusfunksjon\n",
    "sin1 = np.sin(x1)\n",
    "sin2 = np.sin(x2)\n",
    "\n",
    "# Disse er nå klare til å plottes, opprett en figur\n",
    "plt.figure(1, figsize=(8,6), dpi = 100)\n",
    "plt.plot(x1,sin1,'o-')\n",
    "plt.plot(x2,sin2)\n",
    "plt.xlabel('x')\n",
    "plt.ylabel('y')\n",
    "plt.title('Oppløsnings-eksempel')\n",
    "plt.legend(['Lavoppløst','Høyoppløst'])\n",
    "plt.show()\n",
    "\n",
    "print('Laveste verdi er '+str(np.min(sin2))+' ved listeposisjon '+str(np.argmin(sin2))+', der x = '+str(x2[np.argmin(sin2)]))"
   ]
  },
  {
   "cell_type": "markdown",
   "metadata": {
    "deletable": false,
    "editable": false
   },
   "source": [
    "# Hente notebooks fra serveren\n",
    "\n",
    "Se PPT med intro til Python og Jupyter Notebooks på BB. "
   ]
  },
  {
   "cell_type": "markdown",
   "metadata": {
    "deletable": false,
    "editable": false
   },
   "source": [
    "# Levere øving\n",
    "\n",
    "Øvinger leveres på BB i Python-mappen. "
   ]
  }
 ],
 "metadata": {
  "hide_input": false,
  "kernelspec": {
   "display_name": "Python 3 (ipykernel)",
   "language": "python",
   "name": "python3"
  },
  "language_info": {
   "codemirror_mode": {
    "name": "ipython",
    "version": 3
   },
   "file_extension": ".py",
   "mimetype": "text/x-python",
   "name": "python",
   "nbconvert_exporter": "python",
   "pygments_lexer": "ipython3",
   "version": "3.9.7"
  },
  "latex_envs": {
   "LaTeX_envs_menu_present": true,
   "autoclose": false,
   "autocomplete": true,
   "bibliofile": "biblio.bib",
   "cite_by": "apalike",
   "current_citInitial": 1,
   "eqLabelWithNumbers": true,
   "eqNumInitial": 1,
   "hotkeys": {
    "equation": "Ctrl-E",
    "itemize": "Ctrl-I"
   },
   "labels_anchors": false,
   "latex_user_defs": false,
   "report_style_numbering": false,
   "user_envs_cfg": false
  },
  "toc": {
   "base_numbering": 1,
   "nav_menu": {},
   "number_sections": true,
   "sideBar": true,
   "skip_h1_title": false,
   "title_cell": "Table of Contents",
   "title_sidebar": "Contents",
   "toc_cell": false,
   "toc_position": {},
   "toc_section_display": true,
   "toc_window_display": false
  }
 },
 "nbformat": 4,
 "nbformat_minor": 2
}
