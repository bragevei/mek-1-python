{
 "cells": [
  {
   "cell_type": "markdown",
   "metadata": {
    "deletable": false,
    "editable": false,
    "run_control": {
     "frozen": true
    }
   },
   "source": [
    "# Introduksjon til Numpy"
   ]
  },
  {
   "cell_type": "markdown",
   "metadata": {
    "deletable": false,
    "editable": false,
    "run_control": {
     "frozen": true
    }
   },
   "source": [
    "***\n",
    "__Begynn med å trykke på fanen \"Cell\" og deretter \"Run all\"__"
   ]
  },
  {
   "cell_type": "markdown",
   "metadata": {
    "deletable": false,
    "editable": false,
    "run_control": {
     "frozen": true
    }
   },
   "source": [
    "***\n",
    "> Numpy er et bibliotek til Python som inneholder en stor mengde forskjellige verktøy for å behandle numerisk data. Biblioteket kommer med de aller fleste Python-distribusjoner slik som Anaconda eller Python(x,y), og funker like fint på Python 2 som Python 3.\n",
    "\n",
    "> I denne introduksjonen skal vi fokusere på bruk av en datatype som heter \"array\" i NumPy, og se hvorfor denne datatypen er spesielt enkel å bruke til det aller meste som omhandler matematiske operasjoner.\n",
    "\n",
    "> For å følge denne tutorialen kan du enten skrive koden i en kodecelle i dette dokumentet for så å kjøre cellen."
   ]
  },
  {
   "cell_type": "markdown",
   "metadata": {
    "deletable": false,
    "editable": false,
    "run_control": {
     "frozen": true
    }
   },
   "source": [
    "***"
   ]
  },
  {
   "cell_type": "markdown",
   "metadata": {
    "deletable": false,
    "editable": false,
    "run_control": {
     "frozen": true
    }
   },
   "source": [
    "## Litt om tall-typer"
   ]
  },
  {
   "cell_type": "markdown",
   "metadata": {
    "deletable": false,
    "editable": false,
    "run_control": {
     "frozen": true
    }
   },
   "source": [
    "Vi begynner med noen enkle operasjoner, helt uten numpy i begynnelsen"
   ]
  },
  {
   "cell_type": "markdown",
   "metadata": {
    "deletable": false,
    "editable": false,
    "run_control": {
     "frozen": true
    }
   },
   "source": [
    "Vi prøver isteden med"
   ]
  },
  {
   "cell_type": "code",
   "execution_count": 17,
   "metadata": {
    "ExecuteTime": {
     "end_time": "2018-12-19T11:48:23.214000Z",
     "start_time": "2018-12-19T11:48:23.206000Z"
    },
    "hide_input": true
   },
   "outputs": [
    {
     "data": {
      "text/plain": [
       "12.0"
      ]
     },
     "execution_count": 17,
     "metadata": {},
     "output_type": "execute_result"
    }
   ],
   "source": [
    "5.0+7.0"
   ]
  },
  {
   "cell_type": "code",
   "execution_count": 18,
   "metadata": {
    "ExecuteTime": {
     "end_time": "2018-12-19T11:48:23.226000Z",
     "start_time": "2018-12-19T11:48:23.218000Z"
    }
   },
   "outputs": [
    {
     "data": {
      "text/plain": [
       "15.0"
      ]
     },
     "execution_count": 18,
     "metadata": {},
     "output_type": "execute_result"
    }
   ],
   "source": [
    "5.0*3.0"
   ]
  },
  {
   "cell_type": "code",
   "execution_count": 19,
   "metadata": {
    "ExecuteTime": {
     "end_time": "2018-12-19T11:48:23.240000Z",
     "start_time": "2018-12-19T11:48:23.229000Z"
    }
   },
   "outputs": [
    {
     "data": {
      "text/plain": [
       "125.0"
      ]
     },
     "execution_count": 19,
     "metadata": {},
     "output_type": "execute_result"
    }
   ],
   "source": [
    "5.0**3.0"
   ]
  },
  {
   "cell_type": "code",
   "execution_count": 20,
   "metadata": {
    "ExecuteTime": {
     "end_time": "2018-12-19T11:48:23.251000Z",
     "start_time": "2018-12-19T11:48:23.243000Z"
    }
   },
   "outputs": [
    {
     "data": {
      "text/plain": [
       "3.0"
      ]
     },
     "execution_count": 20,
     "metadata": {},
     "output_type": "execute_result"
    }
   ],
   "source": [
    "(5.0+1.0)/2.0"
   ]
  },
  {
   "cell_type": "code",
   "execution_count": 21,
   "metadata": {
    "ExecuteTime": {
     "end_time": "2018-12-19T11:48:23.266000Z",
     "start_time": "2018-12-19T11:48:23.254000Z"
    }
   },
   "outputs": [
    {
     "data": {
      "text/plain": [
       "1.6666666666666667"
      ]
     },
     "execution_count": 21,
     "metadata": {},
     "output_type": "execute_result"
    }
   ],
   "source": [
    "5.0/3.0"
   ]
  },
  {
   "cell_type": "markdown",
   "metadata": {
    "deletable": false,
    "editable": false,
    "run_control": {
     "frozen": true
    }
   },
   "source": [
    "> __NOTE:__ I Python er det forskjell på heltall (integrer, eller \"int\") og desimaltall (flyttall, ellers \"floats\"). Å dele et heltall på et annet kan ofte lage problemer og er en veldig vanlig \"bug\". Hvorvidt deg går bra kommer an på hvilken utgave av Python du har installert.\n",
    "\n",
    "Eksempel:\n",
    "5/3 = 1 i Python 2.7"
   ]
  },
  {
   "cell_type": "markdown",
   "metadata": {
    "deletable": false,
    "editable": false,
    "run_control": {
     "frozen": true
    }
   },
   "source": [
    "***"
   ]
  },
  {
   "cell_type": "markdown",
   "metadata": {
    "deletable": false,
    "editable": false,
    "run_control": {
     "frozen": true
    }
   },
   "source": [
    "### Test selv\n",
    "I kode-cellen under kan du skrive python kode og kjøre den ved å trykke på \"run\" knappen mens cellen er merket.\n",
    "Prøv nå å regn ut følgende:\n",
    "\n",
    "\\begin{equation*}\n",
    "(\\frac{3.0+7.0}{3.0})^{0.5}\n",
    "\\end{equation*}\n"
   ]
  },
  {
   "cell_type": "markdown",
   "metadata": {
    "deletable": false,
    "editable": false,
    "run_control": {
     "frozen": true
    }
   },
   "source": [
    "Skriv koden i cellen under:"
   ]
  },
  {
   "cell_type": "code",
   "execution_count": null,
   "metadata": {},
   "outputs": [],
   "source": []
  },
  {
   "cell_type": "markdown",
   "metadata": {
    "deletable": false,
    "editable": false,
    "run_control": {
     "frozen": true
    },
    "solution2": "hidden",
    "solution2_first": true
   },
   "source": [
    "For å se et løsningsforslag, trykk på knappen under"
   ]
  },
  {
   "cell_type": "code",
   "execution_count": 22,
   "metadata": {
    "ExecuteTime": {
     "end_time": "2018-12-19T11:48:23.451000Z",
     "start_time": "2018-12-19T11:48:23.444000Z"
    },
    "solution2": "hidden"
   },
   "outputs": [
    {
     "data": {
      "text/plain": [
       "1.8257418583505538"
      ]
     },
     "execution_count": 22,
     "metadata": {},
     "output_type": "execute_result"
    }
   ],
   "source": [
    "((3.0+7.0)/3.0)**0.5"
   ]
  },
  {
   "cell_type": "markdown",
   "metadata": {},
   "source": [
    "***"
   ]
  },
  {
   "cell_type": "markdown",
   "metadata": {
    "deletable": false,
    "editable": false,
    "run_control": {
     "frozen": true
    }
   },
   "source": [
    "## Variabler"
   ]
  },
  {
   "cell_type": "markdown",
   "metadata": {
    "deletable": false,
    "editable": false,
    "run_control": {
     "frozen": true
    }
   },
   "source": [
    "Hvis vi har lyst til å ta vare på tallene vi regner ut, kan vi lagre dem som \"variabler\". En variabel er egentlig bare et navn som igjen peker på et verdi, en tekst osv."
   ]
  },
  {
   "cell_type": "code",
   "execution_count": 23,
   "metadata": {
    "ExecuteTime": {
     "end_time": "2018-12-19T11:48:23.715000Z",
     "start_time": "2018-12-19T11:48:23.711000Z"
    }
   },
   "outputs": [],
   "source": [
    "a = 5.0+7.0"
   ]
  },
  {
   "cell_type": "markdown",
   "metadata": {
    "deletable": false,
    "editable": false,
    "run_control": {
     "frozen": true
    }
   },
   "source": [
    "og hvis vi har lyst til å se hva variablen er etterpå kan vi bruke \"print\""
   ]
  },
  {
   "cell_type": "code",
   "execution_count": 24,
   "metadata": {
    "ExecuteTime": {
     "end_time": "2018-12-19T11:48:23.787000Z",
     "start_time": "2018-12-19T11:48:23.774000Z"
    }
   },
   "outputs": [
    {
     "name": "stdout",
     "output_type": "stream",
     "text": [
      "12.0\n"
     ]
    }
   ],
   "source": [
    "print(a)"
   ]
  },
  {
   "cell_type": "markdown",
   "metadata": {
    "deletable": false,
    "editable": false,
    "run_control": {
     "frozen": true
    }
   },
   "source": [
    "På samme måte kan vi bruke variabler for å gjøre utregninger"
   ]
  },
  {
   "cell_type": "code",
   "execution_count": 25,
   "metadata": {
    "ExecuteTime": {
     "end_time": "2018-12-19T11:48:23.838000Z",
     "start_time": "2018-12-19T11:48:23.831000Z"
    }
   },
   "outputs": [
    {
     "name": "stdout",
     "output_type": "stream",
     "text": [
      "4.285714285714286\n"
     ]
    }
   ],
   "source": [
    "min_alder = 30.\n",
    "hunde_ar = 1./7.\n",
    "min_alder_i_hundear = min_alder*hunde_ar\n",
    "\n",
    "print(min_alder_i_hundear)"
   ]
  },
  {
   "cell_type": "markdown",
   "metadata": {
    "deletable": false,
    "editable": false,
    "run_control": {
     "frozen": true
    }
   },
   "source": [
    "Bruk av variabler er en esseniell del av programering!"
   ]
  },
  {
   "cell_type": "markdown",
   "metadata": {},
   "source": [
    "***"
   ]
  },
  {
   "cell_type": "markdown",
   "metadata": {
    "deletable": false,
    "editable": false,
    "run_control": {
     "frozen": true
    }
   },
   "source": [
    "### Test selv\n",
    "Regn ut følgende:\n",
    "\n",
    "\\begin{equation*}\n",
    "innsats = 0.7\n",
    "\\end{equation*}\n",
    "\n",
    "\\begin{equation*}\n",
    "karakterskala = 6.0\n",
    "\\end{equation*}\n",
    "\n",
    "\\begin{equation*}\n",
    "karakter = innsats * karakterskala\n",
    "\\end{equation*}\n"
   ]
  },
  {
   "cell_type": "markdown",
   "metadata": {
    "deletable": false,
    "editable": false,
    "run_control": {
     "frozen": true
    }
   },
   "source": [
    "Skriv koden i cellen under:"
   ]
  },
  {
   "cell_type": "code",
   "execution_count": null,
   "metadata": {},
   "outputs": [],
   "source": []
  },
  {
   "cell_type": "markdown",
   "metadata": {
    "deletable": false,
    "editable": false,
    "run_control": {
     "frozen": true
    },
    "solution2": "hidden",
    "solution2_first": true
   },
   "source": [
    "For å se et løsningsforslag, trykk på knappen"
   ]
  },
  {
   "cell_type": "code",
   "execution_count": 26,
   "metadata": {
    "ExecuteTime": {
     "end_time": "2018-12-19T11:48:24.028000Z",
     "start_time": "2018-12-19T11:48:24.025000Z"
    },
    "solution2": "hidden"
   },
   "outputs": [
    {
     "name": "stdout",
     "output_type": "stream",
     "text": [
      "4.199999999999999\n"
     ]
    }
   ],
   "source": [
    "innsats = 0.7\n",
    "karakterskala = 6.0\n",
    "karakter = innsats * karakterskala\n",
    "print(karakter)"
   ]
  },
  {
   "cell_type": "markdown",
   "metadata": {},
   "source": [
    "***"
   ]
  },
  {
   "cell_type": "markdown",
   "metadata": {
    "deletable": false,
    "editable": false,
    "run_control": {
     "frozen": true
    }
   },
   "source": [
    "## Hvordan få tilgang til verktøyene i Numpy"
   ]
  },
  {
   "cell_type": "markdown",
   "metadata": {
    "deletable": false,
    "editable": false,
    "run_control": {
     "frozen": true
    }
   },
   "source": [
    "Slik terminalen er nå, har du ikke tilgang til Numpy... Altså er ingen av verktøyene i Numpy er tilgjengelig fra kommandoer du skriver. For å bedre på det, må vi importere Numpy-biblioteket. Dette gjør vi slik:"
   ]
  },
  {
   "cell_type": "code",
   "execution_count": 27,
   "metadata": {
    "ExecuteTime": {
     "end_time": "2018-12-19T11:48:24.303000Z",
     "start_time": "2018-12-19T11:48:24.144000Z"
    }
   },
   "outputs": [],
   "source": [
    "import numpy as np"
   ]
  },
  {
   "cell_type": "markdown",
   "metadata": {
    "deletable": false,
    "editable": false,
    "run_control": {
     "frozen": true
    }
   },
   "source": [
    "Det som skjedde her er at vi har importert biblioteket numpy og ga biblioteket er kortere navn \"np\" (progamerere er late)"
   ]
  },
  {
   "cell_type": "markdown",
   "metadata": {
    "deletable": false,
    "editable": false,
    "run_control": {
     "frozen": true
    }
   },
   "source": [
    "La oss nå se hvordan vi når tak i noen av verktøyene"
   ]
  },
  {
   "cell_type": "code",
   "execution_count": 28,
   "metadata": {
    "ExecuteTime": {
     "end_time": "2018-12-19T11:48:24.314000Z",
     "start_time": "2018-12-19T11:48:24.306000Z"
    },
    "scrolled": true
   },
   "outputs": [
    {
     "data": {
      "text/plain": [
       "0.29552020666133955"
      ]
     },
     "execution_count": 28,
     "metadata": {},
     "output_type": "execute_result"
    }
   ],
   "source": [
    "np.sin(0.3)"
   ]
  },
  {
   "cell_type": "code",
   "execution_count": 29,
   "metadata": {
    "ExecuteTime": {
     "end_time": "2018-12-19T11:48:24.327000Z",
     "start_time": "2018-12-19T11:48:24.317000Z"
    }
   },
   "outputs": [
    {
     "data": {
      "text/plain": [
       "1.2924966677897853"
      ]
     },
     "execution_count": 29,
     "metadata": {},
     "output_type": "execute_result"
    }
   ],
   "source": [
    "np.arctan(3.5)"
   ]
  },
  {
   "cell_type": "code",
   "execution_count": 30,
   "metadata": {
    "ExecuteTime": {
     "end_time": "2018-12-19T11:48:24.342000Z",
     "start_time": "2018-12-19T11:48:24.332000Z"
    }
   },
   "outputs": [
    {
     "data": {
      "text/plain": [
       "5.729577951308233"
      ]
     },
     "execution_count": 30,
     "metadata": {},
     "output_type": "execute_result"
    }
   ],
   "source": [
    "np.degrees(0.1)"
   ]
  },
  {
   "cell_type": "markdown",
   "metadata": {
    "deletable": false,
    "editable": false,
    "run_control": {
     "frozen": true
    }
   },
   "source": [
    "og det er hundrevis av andre tilgjengelige verktøy"
   ]
  },
  {
   "cell_type": "markdown",
   "metadata": {
    "deletable": false,
    "editable": false,
    "run_control": {
     "frozen": true
    }
   },
   "source": [
    "***"
   ]
  },
  {
   "cell_type": "markdown",
   "metadata": {
    "deletable": false,
    "editable": false,
    "run_control": {
     "frozen": true
    }
   },
   "source": [
    "### Test selv\n",
    "Regn ut følgende:\n",
    "\n",
    "\\begin{equation*}\n",
    "hosliggendekatet = 5\n",
    "\\end{equation*}\n",
    "\n",
    "\\begin{equation*}\n",
    "motstående katet = 3\n",
    "\\end{equation*}\n",
    "\n",
    "Regn ut vinkelen $\\alpha=\\tan^{-1}(\\frac{motstående katet}{hosliggendekatet})$\n"
   ]
  },
  {
   "cell_type": "markdown",
   "metadata": {
    "deletable": false,
    "editable": false,
    "run_control": {
     "frozen": true
    }
   },
   "source": [
    "Skriv koden i cellen under:"
   ]
  },
  {
   "cell_type": "code",
   "execution_count": null,
   "metadata": {},
   "outputs": [],
   "source": []
  },
  {
   "cell_type": "markdown",
   "metadata": {
    "deletable": false,
    "editable": false,
    "run_control": {
     "frozen": true
    },
    "solution2": "shown",
    "solution2_first": true
   },
   "source": [
    "For å se et løsningsforslag, trykk på knappen"
   ]
  },
  {
   "cell_type": "code",
   "execution_count": 31,
   "metadata": {
    "ExecuteTime": {
     "end_time": "2019-01-11T12:34:45.752000Z",
     "start_time": "2019-01-11T12:34:45.663000Z"
    },
    "solution2": "shown"
   },
   "outputs": [
    {
     "name": "stdout",
     "output_type": "stream",
     "text": [
      "0.5404195002705842\n"
     ]
    }
   ],
   "source": [
    "hosliggende  = 5.0\n",
    "motstaaende = 3.0\n",
    "\n",
    "alpha = np.arctan(motstaaende/hosliggende)\n",
    "print(alpha)"
   ]
  },
  {
   "cell_type": "markdown",
   "metadata": {},
   "source": [
    "***"
   ]
  },
  {
   "cell_type": "markdown",
   "metadata": {
    "deletable": false,
    "editable": false,
    "run_control": {
     "frozen": true
    }
   },
   "source": [
    "## Hvordan regne med mange tall på en gang?"
   ]
  },
  {
   "cell_type": "markdown",
   "metadata": {
    "deletable": false,
    "editable": false,
    "run_control": {
     "frozen": true
    }
   },
   "source": [
    "Ofte trenger vi å gjøre en operasjon for mange tall, feks. å regne ut en funksjon $f(x)$ for mange $x$ verdier. Vi skal nå prøve å gjøre dette for funksjonen $f(x)=2*x$, for $x$ mellom 3.0 og 10.0"
   ]
  },
  {
   "cell_type": "markdown",
   "metadata": {
    "deletable": false,
    "editable": false,
    "run_control": {
     "frozen": true
    }
   },
   "source": [
    "For noen tall, eks 3.0, 4.0, 5.0, 6.0 ville det vært slik"
   ]
  },
  {
   "cell_type": "code",
   "execution_count": 32,
   "metadata": {
    "ExecuteTime": {
     "end_time": "2018-12-19T11:48:24.616000Z",
     "start_time": "2018-12-19T11:48:24.611000Z"
    }
   },
   "outputs": [
    {
     "data": {
      "text/plain": [
       "6.0"
      ]
     },
     "execution_count": 32,
     "metadata": {},
     "output_type": "execute_result"
    }
   ],
   "source": [
    "2.0*3.0"
   ]
  },
  {
   "cell_type": "code",
   "execution_count": 33,
   "metadata": {
    "ExecuteTime": {
     "end_time": "2018-12-19T11:48:24.630000Z",
     "start_time": "2018-12-19T11:48:24.621000Z"
    }
   },
   "outputs": [
    {
     "data": {
      "text/plain": [
       "8.0"
      ]
     },
     "execution_count": 33,
     "metadata": {},
     "output_type": "execute_result"
    }
   ],
   "source": [
    "2.0*4.0"
   ]
  },
  {
   "cell_type": "code",
   "execution_count": 34,
   "metadata": {
    "ExecuteTime": {
     "end_time": "2018-12-19T11:48:24.644000Z",
     "start_time": "2018-12-19T11:48:24.633000Z"
    }
   },
   "outputs": [
    {
     "data": {
      "text/plain": [
       "10.0"
      ]
     },
     "execution_count": 34,
     "metadata": {},
     "output_type": "execute_result"
    }
   ],
   "source": [
    "2.0*5.0"
   ]
  },
  {
   "cell_type": "code",
   "execution_count": 35,
   "metadata": {
    "ExecuteTime": {
     "end_time": "2018-12-19T11:48:24.659000Z",
     "start_time": "2018-12-19T11:48:24.649000Z"
    }
   },
   "outputs": [
    {
     "data": {
      "text/plain": [
       "12.0"
      ]
     },
     "execution_count": 35,
     "metadata": {},
     "output_type": "execute_result"
    }
   ],
   "source": [
    "2.0*6.0"
   ]
  },
  {
   "cell_type": "markdown",
   "metadata": {
    "deletable": false,
    "editable": false,
    "run_control": {
     "frozen": true
    }
   },
   "source": [
    "Noe som ikke er veldig praktisk..."
   ]
  },
  {
   "cell_type": "markdown",
   "metadata": {
    "deletable": false,
    "editable": false,
    "run_control": {
     "frozen": true
    }
   },
   "source": [
    "La oss se hva Numpy kan hjelpe oss med!\n",
    "I Numpy-biblioteket finnes det en type som heter \"array\". Dette er en slags liste med tall.\n",
    "For å lage en slik liste med tall, kan vi bruke en funksjon i Numpy som heter \"arange\". Denne funker slik:\n",
    "\n",
    "\\begin{equation*}\n",
    "output = arange(start,stop,step=1)\n",
    "\\end{equation*}\n",
    "\n",
    "Altså kan vi nå:"
   ]
  },
  {
   "cell_type": "code",
   "execution_count": 36,
   "metadata": {
    "ExecuteTime": {
     "end_time": "2018-12-19T11:48:24.727000Z",
     "start_time": "2018-12-19T11:48:24.722000Z"
    }
   },
   "outputs": [
    {
     "name": "stdout",
     "output_type": "stream",
     "text": [
      "[ 3.  4.  5.  6.  7.  8.  9. 10.]\n"
     ]
    }
   ],
   "source": [
    "x = np.arange(3.,11.)\n",
    "print(x)"
   ]
  },
  {
   "cell_type": "markdown",
   "metadata": {
    "deletable": false,
    "editable": false,
    "run_control": {
     "frozen": true
    }
   },
   "source": [
    "Et array slik som vist over kan du tenke på som en liste med tall (tenk excel) med en \"indeks\" for hver celle:"
   ]
  },
  {
   "cell_type": "markdown",
   "metadata": {
    "deletable": false,
    "editable": false,
    "run_control": {
     "frozen": true
    }
   },
   "source": [
    "| Index | 0    | 1    | 2    | 3    | 4    | 5    | 6    | 7    |\n",
    "|-------|------|------|------|------|------|------|------|------|\n",
    "|Element| 3| 4| 5| 6| 7| 8| 9| 10|"
   ]
  },
  {
   "cell_type": "markdown",
   "metadata": {
    "deletable": false,
    "editable": false,
    "run_control": {
     "frozen": true
    }
   },
   "source": [
    "for å hente ut tallet som står i \"celle\" 4 skriver vi"
   ]
  },
  {
   "cell_type": "code",
   "execution_count": 37,
   "metadata": {
    "ExecuteTime": {
     "end_time": "2018-12-19T11:48:24.877000Z",
     "start_time": "2018-12-19T11:48:24.869000Z"
    }
   },
   "outputs": [
    {
     "data": {
      "text/plain": [
       "7.0"
      ]
     },
     "execution_count": 37,
     "metadata": {},
     "output_type": "execute_result"
    }
   ],
   "source": [
    "x[4]"
   ]
  },
  {
   "cell_type": "markdown",
   "metadata": {
    "deletable": false,
    "editable": false,
    "run_control": {
     "frozen": true
    }
   },
   "source": [
    "Legg merke til firkantparentes [ ] og ikke () !"
   ]
  },
  {
   "cell_type": "markdown",
   "metadata": {
    "deletable": false,
    "editable": false,
    "run_control": {
     "frozen": true
    }
   },
   "source": [
    "vi kan gange dette tallet med to, slik som over"
   ]
  },
  {
   "cell_type": "code",
   "execution_count": 38,
   "metadata": {
    "ExecuteTime": {
     "end_time": "2018-12-19T11:48:24.954000Z",
     "start_time": "2018-12-19T11:48:24.948000Z"
    }
   },
   "outputs": [
    {
     "data": {
      "text/plain": [
       "14.0"
      ]
     },
     "execution_count": 38,
     "metadata": {},
     "output_type": "execute_result"
    }
   ],
   "source": [
    "x[4] * 2."
   ]
  },
  {
   "cell_type": "markdown",
   "metadata": {
    "deletable": false,
    "editable": false,
    "run_control": {
     "frozen": true
    }
   },
   "source": [
    "eller gange alle tallene i $x$ med to"
   ]
  },
  {
   "cell_type": "code",
   "execution_count": 39,
   "metadata": {
    "ExecuteTime": {
     "end_time": "2018-12-19T11:48:25Z",
     "start_time": "2018-12-19T11:48:24.994000Z"
    }
   },
   "outputs": [
    {
     "data": {
      "text/plain": [
       "array([ 6.,  8., 10., 12., 14., 16., 18., 20.])"
      ]
     },
     "execution_count": 39,
     "metadata": {},
     "output_type": "execute_result"
    }
   ],
   "source": [
    "x*2."
   ]
  },
  {
   "cell_type": "markdown",
   "metadata": {
    "deletable": false,
    "editable": false,
    "run_control": {
     "frozen": true
    }
   },
   "source": [
    "eller kvadrede tallene"
   ]
  },
  {
   "cell_type": "code",
   "execution_count": 40,
   "metadata": {
    "ExecuteTime": {
     "end_time": "2018-12-19T11:48:25.045000Z",
     "start_time": "2018-12-19T11:48:25.038000Z"
    }
   },
   "outputs": [
    {
     "data": {
      "text/plain": [
       "array([  9.,  16.,  25.,  36.,  49.,  64.,  81., 100.])"
      ]
     },
     "execution_count": 40,
     "metadata": {},
     "output_type": "execute_result"
    }
   ],
   "source": [
    "x**2."
   ]
  },
  {
   "cell_type": "markdown",
   "metadata": {},
   "source": [
    "***"
   ]
  },
  {
   "cell_type": "markdown",
   "metadata": {
    "deletable": false,
    "editable": false,
    "run_control": {
     "frozen": true
    }
   },
   "source": [
    "### Test selv\n",
    "Regn ut funksjonen $f(x)=x^2+5x+7$ for $x$ mellom 3 og 11:"
   ]
  },
  {
   "cell_type": "markdown",
   "metadata": {
    "deletable": false,
    "editable": false,
    "run_control": {
     "frozen": true
    }
   },
   "source": [
    "Skriv koden i cellen under:"
   ]
  },
  {
   "cell_type": "code",
   "execution_count": null,
   "metadata": {},
   "outputs": [],
   "source": []
  },
  {
   "cell_type": "markdown",
   "metadata": {
    "deletable": false,
    "editable": false,
    "run_control": {
     "frozen": true
    },
    "solution2": "hidden",
    "solution2_first": true
   },
   "source": [
    "For å se et løsningsforslag, trykk på knappen"
   ]
  },
  {
   "cell_type": "code",
   "execution_count": 41,
   "metadata": {
    "ExecuteTime": {
     "end_time": "2018-12-19T11:48:25.200000Z",
     "start_time": "2018-12-19T11:48:25.193000Z"
    },
    "solution2": "hidden"
   },
   "outputs": [
    {
     "data": {
      "text/plain": [
       "array([ 31.,  43.,  57.,  73.,  91., 111., 133., 157.])"
      ]
     },
     "execution_count": 41,
     "metadata": {},
     "output_type": "execute_result"
    }
   ],
   "source": [
    "x = np.arange(3.,11.)\n",
    "x**2.+5*x+7"
   ]
  },
  {
   "cell_type": "markdown",
   "metadata": {},
   "source": [
    "***"
   ]
  },
  {
   "cell_type": "markdown",
   "metadata": {
    "deletable": false,
    "editable": false,
    "run_control": {
     "frozen": true
    }
   },
   "source": [
    "## Flere variabler på en gang"
   ]
  },
  {
   "cell_type": "markdown",
   "metadata": {
    "deletable": false,
    "editable": false,
    "run_control": {
     "frozen": true
    }
   },
   "source": [
    "Dette var jo greit, men hva om vi har to variabler $x$ og $y$? "
   ]
  },
  {
   "cell_type": "code",
   "execution_count": 42,
   "metadata": {
    "ExecuteTime": {
     "end_time": "2018-12-19T11:48:25.314000Z",
     "start_time": "2018-12-19T11:48:25.310000Z"
    }
   },
   "outputs": [
    {
     "name": "stdout",
     "output_type": "stream",
     "text": [
      "[8. 9.]\n"
     ]
    }
   ],
   "source": [
    "y = np.arange(8.,10.)\n",
    "print(y)"
   ]
  },
  {
   "cell_type": "markdown",
   "metadata": {
    "deletable": false,
    "editable": false,
    "run_control": {
     "frozen": true
    }
   },
   "source": [
    "la oss nå regne ut $f(x,y) = x + y$"
   ]
  },
  {
   "cell_type": "markdown",
   "metadata": {
    "deletable": false,
    "editable": false,
    "run_control": {
     "frozen": true
    }
   },
   "source": [
    "MERK. koden under inneholder \\textit{try} og \\textit{except} except, noe som vi ikke forventer at dere skal kunne. Bare tenk på det som at den prøver å regne ut noe, og hvis det ikke går printer den ut feilmeldinga og går videre."
   ]
  },
  {
   "cell_type": "code",
   "execution_count": 43,
   "metadata": {
    "ExecuteTime": {
     "end_time": "2018-12-19T11:48:25.396000Z",
     "start_time": "2018-12-19T11:48:25.391000Z"
    }
   },
   "outputs": [
    {
     "name": "stdout",
     "output_type": "stream",
     "text": [
      "Feilmelding:  operands could not be broadcast together with shapes (8,) (2,) \n"
     ]
    }
   ],
   "source": [
    "try:\n",
    "    f = x + y\n",
    "except Exception as e:\n",
    "    print(\"Feilmelding: \",e)"
   ]
  },
  {
   "cell_type": "markdown",
   "metadata": {
    "deletable": false,
    "editable": false,
    "run_control": {
     "frozen": true
    }
   },
   "source": [
    "noe som funket dårlig.... Hva som er feil her skjønner vi etter å ha sett litt på hvordan operasjoner på array funker i numpy"
   ]
  },
  {
   "cell_type": "markdown",
   "metadata": {
    "deletable": false,
    "editable": false,
    "run_control": {
     "frozen": true
    }
   },
   "source": [
    "| Index | 0    | 1    | 2    | 3    | 4    | 5    | 6    | 7    |\n",
    "|-------|------|------|------|------|------|------|------|------|\n",
    "|array: x| 3| 4| 5| 6| 7| 8| 9| 10|\n",
    "|array: y| 8| 9|\n",
    "|array: f| | | | | | | | |"
   ]
  },
  {
   "cell_type": "markdown",
   "metadata": {
    "deletable": false,
    "editable": false,
    "run_control": {
     "frozen": true
    }
   },
   "source": [
    "Numpy arrays funker elementvis, altså vil uttrykket $f(x,y) = x+y$ regnes slik:"
   ]
  },
  {
   "cell_type": "markdown",
   "metadata": {
    "deletable": false,
    "editable": false,
    "run_control": {
     "frozen": true
    }
   },
   "source": [
    "f[0] = x[0]+y[0]\n",
    "\n",
    "f[1] = x[1]+y[1]\n",
    "\n",
    "f[2] = x[2]+y[2]\n",
    "\n",
    "f[3] = x[3]+y[3]\n",
    "\n",
    "f[4] = x[4]+y[4]"
   ]
  },
  {
   "cell_type": "markdown",
   "metadata": {
    "deletable": false,
    "editable": false,
    "run_control": {
     "frozen": true
    }
   },
   "source": [
    "Alltså,"
   ]
  },
  {
   "cell_type": "markdown",
   "metadata": {
    "deletable": false,
    "editable": false,
    "run_control": {
     "frozen": true
    }
   },
   "source": [
    "f[0] = 3 + 8 = 11\n",
    "\n",
    "f[1] = 4 + 9 = 13\n",
    "\n",
    "f[2] = 5 + ? = ?\n",
    "\n",
    "f[3] = 6 + ? = ?\n",
    "\n",
    "f[4] = 7 + ? = ?\n"
   ]
  },
  {
   "cell_type": "markdown",
   "metadata": {
    "deletable": false,
    "editable": false,
    "run_control": {
     "frozen": true
    }
   },
   "source": [
    "Først regnes det med alle elementene for index $0$ slik"
   ]
  },
  {
   "cell_type": "markdown",
   "metadata": {
    "deletable": false,
    "editable": false,
    "run_control": {
     "frozen": true
    }
   },
   "source": [
    "| Index | <font color=red>0</font>    | 1    | 2    | 3    | 4    | 5    | 6    | 7    |\n",
    "|-------|------|------|------|------|------|------|------|------|\n",
    "|array: x| <font color=red>3</font>| 4| 5| 6| 7| 8| 9| 10|\n",
    "|array: y| <font color=red>8</font>| 9|\n",
    "|array: f| <font color=red>11</font>| | | | | | | |"
   ]
  },
  {
   "cell_type": "markdown",
   "metadata": {
    "deletable": false,
    "editable": false,
    "run_control": {
     "frozen": true
    }
   },
   "source": [
    "så med alle elementene med index $1$ slik"
   ]
  },
  {
   "cell_type": "markdown",
   "metadata": {
    "deletable": false,
    "editable": false,
    "run_control": {
     "frozen": true
    }
   },
   "source": [
    "| Index | 0    | <font color=red>1</font>    | 2    | 3    | 4    | 5    | 6    | 7    |\n",
    "|-------|------|------|------|------|------|------|------|------|\n",
    "|array: x| 3| <font color=red>4</font>| 5| 6| 7| 8| 9| 10|\n",
    "|array: y| 8| <font color=red>9</font>|\n",
    "|array: f| 11| <font color=red>13</font>| | | | | | |"
   ]
  },
  {
   "cell_type": "markdown",
   "metadata": {
    "deletable": false,
    "editable": false,
    "run_control": {
     "frozen": true
    }
   },
   "source": [
    "dereter med index $2$ slik"
   ]
  },
  {
   "cell_type": "markdown",
   "metadata": {
    "deletable": false,
    "editable": false,
    "run_control": {
     "frozen": true
    }
   },
   "source": [
    "| Index | 0    |1    |  <font color=red>2</font>    | 3    | 4    | 5    | 6    | 7    |\n",
    "|-------|------|------|------|------|------|------|------|------|\n",
    "|array: x| 3| 4| <font color=red>5</font>| 6| 7| 8| 9| 10|\n",
    "|array: y| 8| 9|<font color=red>?</font>|\n",
    "|array: f| 11| 13|<font color=red>?</font> | | | | | |"
   ]
  },
  {
   "cell_type": "markdown",
   "metadata": {
    "deletable": false,
    "editable": false,
    "run_control": {
     "frozen": true
    }
   },
   "source": [
    "og dette får galt når det ikke er like mange elementer i array y som i array x!"
   ]
  },
  {
   "cell_type": "markdown",
   "metadata": {
    "deletable": false,
    "editable": false,
    "run_control": {
     "frozen": true
    }
   },
   "source": [
    "La oss prøve med et array som har samme lengde som x"
   ]
  },
  {
   "cell_type": "code",
   "execution_count": 44,
   "metadata": {
    "ExecuteTime": {
     "end_time": "2018-12-19T11:48:26.110000Z",
     "start_time": "2018-12-19T11:48:26.105000Z"
    }
   },
   "outputs": [
    {
     "name": "stdout",
     "output_type": "stream",
     "text": [
      "[ 8.  9. 10. 11. 12. 13. 14. 15.]\n"
     ]
    }
   ],
   "source": [
    "y = np.arange(8.,16.)\n",
    "print(y)"
   ]
  },
  {
   "cell_type": "code",
   "execution_count": 45,
   "metadata": {
    "ExecuteTime": {
     "end_time": "2018-12-19T11:48:26.124000Z",
     "start_time": "2018-12-19T11:48:26.114000Z"
    }
   },
   "outputs": [
    {
     "name": "stdout",
     "output_type": "stream",
     "text": [
      "[11. 13. 15. 17. 19. 21. 23. 25.]\n"
     ]
    }
   ],
   "source": [
    "f = x + y\n",
    "print(f)"
   ]
  },
  {
   "cell_type": "markdown",
   "metadata": {
    "deletable": false,
    "editable": false,
    "run_control": {
     "frozen": true
    }
   },
   "source": [
    "Og det funket som forventet"
   ]
  },
  {
   "cell_type": "markdown",
   "metadata": {
    "deletable": false,
    "editable": false,
    "run_control": {
     "frozen": true
    }
   },
   "source": [
    "***"
   ]
  },
  {
   "cell_type": "markdown",
   "metadata": {
    "deletable": false,
    "editable": false,
    "run_control": {
     "frozen": true
    }
   },
   "source": [
    "### Test selv\n",
    "Regn ut funksjonen $L(x,y)=(x^2+y^2)^{0.5}$ for parvise verdier av $x$ mellom 3 og 11 og for y mellom 8 og 16. \n",
    "\n",
    "Alltså L(x[0],y[0]), L(x[1],y[1]) osv"
   ]
  },
  {
   "cell_type": "markdown",
   "metadata": {
    "deletable": false,
    "editable": false,
    "run_control": {
     "frozen": true
    }
   },
   "source": [
    "Skriv koden i cellen under:"
   ]
  },
  {
   "cell_type": "code",
   "execution_count": null,
   "metadata": {},
   "outputs": [],
   "source": []
  },
  {
   "cell_type": "markdown",
   "metadata": {
    "deletable": false,
    "editable": false,
    "run_control": {
     "frozen": true
    },
    "solution2": "hidden",
    "solution2_first": true
   },
   "source": [
    "Trykk på knappen for å se et løsningsforslag"
   ]
  },
  {
   "cell_type": "code",
   "execution_count": 46,
   "metadata": {
    "ExecuteTime": {
     "end_time": "2018-12-19T11:48:26.305000Z",
     "start_time": "2018-12-19T11:48:26.299000Z"
    },
    "solution2": "hidden"
   },
   "outputs": [
    {
     "name": "stdout",
     "output_type": "stream",
     "text": [
      "[ 8.54400375  9.8488578  11.18033989 12.52996409 13.89244399 15.26433752\n",
      " 16.64331698 18.02775638]\n"
     ]
    }
   ],
   "source": [
    "x = np.arange(3.,11.)\n",
    "y = np.arange(8.,16.)\n",
    "\n",
    "L = (x**2.+y**2.)**0.5\n",
    "print(L)"
   ]
  },
  {
   "cell_type": "markdown",
   "metadata": {},
   "source": [
    "***"
   ]
  },
  {
   "cell_type": "markdown",
   "metadata": {
    "deletable": false,
    "editable": false,
    "run_control": {
     "frozen": true
    }
   },
   "source": [
    "## Hvordan finne største og minste tall i et array?"
   ]
  },
  {
   "cell_type": "markdown",
   "metadata": {
    "deletable": false,
    "editable": false,
    "run_control": {
     "frozen": true
    }
   },
   "source": [
    "Hvis man har et array med tall, hvordan finner man største og minste tall???"
   ]
  },
  {
   "cell_type": "code",
   "execution_count": 47,
   "metadata": {
    "ExecuteTime": {
     "end_time": "2018-12-19T11:48:26.422000Z",
     "start_time": "2018-12-19T11:48:26.417000Z"
    }
   },
   "outputs": [
    {
     "name": "stdout",
     "output_type": "stream",
     "text": [
      "[1. 5. 7. 2.]\n"
     ]
    }
   ],
   "source": [
    "tallrekke = np.array([1.,5.,7.,2.])\n",
    "print(tallrekke)"
   ]
  },
  {
   "cell_type": "markdown",
   "metadata": {
    "deletable": false,
    "editable": false,
    "run_control": {
     "frozen": true
    }
   },
   "source": [
    "Legg merke til funksjonen array i linjen over. Dette gjør at vi manuelt kan tabulere verdier i et array med følgende syntaks:\n",
    "\n",
    "\\begin{equation*}\n",
    "tallrekke = array([tall1,tall2,tall3,...])\n",
    "\\end{equation*}\n",
    "\n",
    "Legg merke til at det her er en firkant-parentes inne i den runde parentesen"
   ]
  },
  {
   "cell_type": "markdown",
   "metadata": {
    "deletable": false,
    "editable": false,
    "run_control": {
     "frozen": true
    }
   },
   "source": [
    "For å finne det største tallet, kan vi bruke funksjonen \\textit{np.max()} "
   ]
  },
  {
   "cell_type": "code",
   "execution_count": 48,
   "metadata": {
    "ExecuteTime": {
     "end_time": "2018-12-19T11:48:26.502000Z",
     "start_time": "2018-12-19T11:48:26.498000Z"
    }
   },
   "outputs": [
    {
     "name": "stdout",
     "output_type": "stream",
     "text": [
      "7.0\n"
     ]
    }
   ],
   "source": [
    "storste_tall = np.max(tallrekke)\n",
    "print(storste_tall)"
   ]
  },
  {
   "cell_type": "markdown",
   "metadata": {
    "deletable": false,
    "editable": false,
    "run_control": {
     "frozen": true
    }
   },
   "source": [
    "For å finne det minste tallet, kan vi gjøre tilsvarende"
   ]
  },
  {
   "cell_type": "code",
   "execution_count": 49,
   "metadata": {
    "ExecuteTime": {
     "end_time": "2018-12-19T11:48:26.582000Z",
     "start_time": "2018-12-19T11:48:26.546000Z"
    }
   },
   "outputs": [
    {
     "name": "stdout",
     "output_type": "stream",
     "text": [
      "1.0\n"
     ]
    }
   ],
   "source": [
    "minste_tall = np.min(tallrekke)\n",
    "print(minste_tall)"
   ]
  },
  {
   "cell_type": "markdown",
   "metadata": {
    "deletable": false,
    "editable": false,
    "run_control": {
     "frozen": true
    }
   },
   "source": [
    "noe som også funket som forventet"
   ]
  },
  {
   "cell_type": "markdown",
   "metadata": {
    "deletable": false,
    "editable": false,
    "run_control": {
     "frozen": true
    }
   },
   "source": [
    "### Test selv\n",
    "Finn den minste og største verdien av funksjonen $L(x,y)$ du regnet ut tidligere. Husk at variablen $L$ nå ligger lagret og at du kan nå den fra kode-cellen under."
   ]
  },
  {
   "cell_type": "markdown",
   "metadata": {
    "deletable": false,
    "editable": false,
    "run_control": {
     "frozen": true
    }
   },
   "source": [
    "Skriv koden i cellen under:"
   ]
  },
  {
   "cell_type": "code",
   "execution_count": null,
   "metadata": {},
   "outputs": [],
   "source": []
  },
  {
   "cell_type": "markdown",
   "metadata": {
    "deletable": false,
    "editable": false,
    "run_control": {
     "frozen": true
    },
    "solution2": "hidden",
    "solution2_first": true
   },
   "source": [
    "Trykk på knappen for å se et løsningsforslag"
   ]
  },
  {
   "cell_type": "code",
   "execution_count": 50,
   "metadata": {
    "ExecuteTime": {
     "end_time": "2018-12-19T11:48:26.705000Z",
     "start_time": "2018-12-19T11:48:26.700000Z"
    },
    "solution2": "hidden"
   },
   "outputs": [
    {
     "name": "stdout",
     "output_type": "stream",
     "text": [
      "8.54400374531753\n",
      "18.027756377319946\n"
     ]
    }
   ],
   "source": [
    "min_L = np.min(L)\n",
    "max_L = np.max(L)\n",
    "\n",
    "print(min_L)\n",
    "print(max_L)"
   ]
  },
  {
   "cell_type": "markdown",
   "metadata": {},
   "source": [
    "***"
   ]
  },
  {
   "cell_type": "markdown",
   "metadata": {
    "deletable": false,
    "editable": false,
    "run_control": {
     "frozen": true
    }
   },
   "source": [
    "## Finne indeksen til største og minste tall"
   ]
  },
  {
   "cell_type": "markdown",
   "metadata": {
    "deletable": false,
    "editable": false,
    "run_control": {
     "frozen": true
    }
   },
   "source": [
    "Et problem vi ofte står ovenfor er at man har en funksjon $f(x)$ hvor man ønsker å finne den minste verdien av f i et intervall og det tilsvarende $x$ verdien. La oss gjøre dette med et eksempel"
   ]
  },
  {
   "cell_type": "markdown",
   "metadata": {
    "deletable": false,
    "editable": false,
    "run_control": {
     "frozen": true
    }
   },
   "source": [
    "$f(x) = x^2-x+5$ hvor $x\\in [-5,5]$"
   ]
  },
  {
   "cell_type": "code",
   "execution_count": 51,
   "metadata": {
    "ExecuteTime": {
     "end_time": "2018-12-19T11:48:26.906000Z",
     "start_time": "2018-12-19T11:48:26.899000Z"
    }
   },
   "outputs": [
    {
     "name": "stdout",
     "output_type": "stream",
     "text": [
      "[-5 -4 -3 -2 -1  0  1  2  3  4]\n"
     ]
    }
   ],
   "source": [
    "x = np.arange(-5,5)\n",
    "print(x)"
   ]
  },
  {
   "cell_type": "code",
   "execution_count": 52,
   "metadata": {
    "ExecuteTime": {
     "end_time": "2018-12-19T11:48:26.922000Z",
     "start_time": "2018-12-19T11:48:26.910000Z"
    }
   },
   "outputs": [
    {
     "name": "stdout",
     "output_type": "stream",
     "text": [
      "[35. 25. 17. 11.  7.  5.  5.  7. 11. 17.]\n"
     ]
    }
   ],
   "source": [
    "f = x**2.-x+5.\n",
    "print(f)"
   ]
  },
  {
   "cell_type": "markdown",
   "metadata": {
    "deletable": false,
    "editable": false,
    "run_control": {
     "frozen": true
    }
   },
   "source": [
    "Vi finner da det minste tallet i $f$ slik"
   ]
  },
  {
   "cell_type": "code",
   "execution_count": 53,
   "metadata": {
    "ExecuteTime": {
     "end_time": "2018-12-19T11:48:26.962000Z",
     "start_time": "2018-12-19T11:48:26.957000Z"
    }
   },
   "outputs": [
    {
     "name": "stdout",
     "output_type": "stream",
     "text": [
      "5.0\n"
     ]
    }
   ],
   "source": [
    "f_min = np.min(f)\n",
    "print(f_min)"
   ]
  },
  {
   "cell_type": "markdown",
   "metadata": {
    "deletable": false,
    "editable": false,
    "run_control": {
     "frozen": true
    }
   },
   "source": [
    "Men, hvordan finner vi nå den tilsvarende x-verdien?\n",
    "\n",
    "Vi ser en gang til på hvordan indekser er brukt i arrays\n",
    "\n",
    "| Index | 0    | 1    | 2    | 3    | 4    | 5    | 6    | 7    | 9    | 9    |\n",
    "|-------|------|------|------|------|------|------|------|------|------|------|\n",
    "|array: x| -5| -4| -3| -2| -1| 0| 1| 2| 3| 4|\n",
    "|array: f| 35|25 |17 |11 |7 |5 |5 |7 |11 |17 |\n",
    "\n",
    "Legg merke til at indeksen som svarer til det minste tallet i $f$ også svarer til $x$ verdien som gir dette tallet!\n",
    "\n",
    "| Index | 0    | 1    | 2    | 3    | 4    | <font color=red>5</font>    | 6    | 7    | 9    | 9    |\n",
    "|-------|------|------|------|------|------|------|------|------|------|------|\n",
    "|array: x| -5| -4| -3| -2| -1| <font color=red>0</font>| 1| 2| 3| 4|\n",
    "|array: f| 35|25 |17 |11 |7 |<font color=red>5</font> |5 |7 |11 |17 |\n",
    "\n",
    "\n",
    "> Så fremgangsmåten vi bruker er å finne indeksen til det minste tallet i $f$ og hente ut tallet i $x$ med samme indeks.\n",
    "\n",
    "For å finne indeksen til det minste tallet, finnes det en spesiell funksjon som heter np.argmin()"
   ]
  },
  {
   "cell_type": "code",
   "execution_count": 54,
   "metadata": {
    "ExecuteTime": {
     "end_time": "2018-12-19T11:48:27.009000Z",
     "start_time": "2018-12-19T11:48:27.003000Z"
    }
   },
   "outputs": [
    {
     "name": "stdout",
     "output_type": "stream",
     "text": [
      "5\n"
     ]
    }
   ],
   "source": [
    "ind_f_min = np.argmin(f)\n",
    "print(ind_f_min)"
   ]
  },
  {
   "cell_type": "markdown",
   "metadata": {
    "deletable": false,
    "editable": false,
    "run_control": {
     "frozen": true
    }
   },
   "source": [
    "Og tilsvarende $x$ verdi finnes da slik"
   ]
  },
  {
   "cell_type": "code",
   "execution_count": 55,
   "metadata": {
    "ExecuteTime": {
     "end_time": "2018-12-19T11:48:27.054000Z",
     "start_time": "2018-12-19T11:48:27.050000Z"
    }
   },
   "outputs": [
    {
     "name": "stdout",
     "output_type": "stream",
     "text": [
      "0\n"
     ]
    }
   ],
   "source": [
    "x_f_min = x[ind_f_min]\n",
    "print(x_f_min)"
   ]
  },
  {
   "cell_type": "markdown",
   "metadata": {
    "deletable": false,
    "editable": false,
    "run_control": {
     "frozen": true
    }
   },
   "source": [
    "noe vi ser stemmer med tabellen over"
   ]
  },
  {
   "cell_type": "markdown",
   "metadata": {
    "deletable": false,
    "editable": false,
    "run_control": {
     "frozen": true
    }
   },
   "source": [
    "***\n",
    "### Test selv\n",
    "Finn verdien og indeksen til det største tallet i $f$ regnet ut over:"
   ]
  },
  {
   "cell_type": "markdown",
   "metadata": {
    "deletable": false,
    "editable": false,
    "run_control": {
     "frozen": true
    }
   },
   "source": [
    "Skriv koden i cellen under:"
   ]
  },
  {
   "cell_type": "code",
   "execution_count": null,
   "metadata": {},
   "outputs": [],
   "source": []
  },
  {
   "cell_type": "markdown",
   "metadata": {
    "deletable": false,
    "editable": false,
    "run_control": {
     "frozen": true
    },
    "solution2": "hidden",
    "solution2_first": true
   },
   "source": [
    "Trykk på knappen for å se et løsningsforslag"
   ]
  },
  {
   "cell_type": "code",
   "execution_count": 56,
   "metadata": {
    "ExecuteTime": {
     "end_time": "2018-12-19T11:48:27.225000Z",
     "start_time": "2018-12-19T11:48:27.219000Z"
    },
    "solution2": "hidden"
   },
   "outputs": [
    {
     "name": "stdout",
     "output_type": "stream",
     "text": [
      "0\n",
      "35.0\n",
      "-5\n"
     ]
    }
   ],
   "source": [
    "ind_f_max = np.argmax(f)\n",
    "f_max = f[ind_f_max]\n",
    "x_f_max = x[ind_f_max]\n",
    "\n",
    "print(ind_f_max)\n",
    "print(f_max)\n",
    "print(x_f_max)"
   ]
  },
  {
   "cell_type": "markdown",
   "metadata": {},
   "source": [
    "***"
   ]
  },
  {
   "cell_type": "markdown",
   "metadata": {
    "deletable": false,
    "editable": false,
    "run_control": {
     "frozen": true
    }
   },
   "source": [
    "# Plotting\n",
    "Det finnes en rekke verktøy for å lage figurer i python, men det desidert vanligste, og mest brukervennlige heter matplotlib. I matplotlib ligger det enda et bibliotek som heter pyplot, som vi skal bruke her.\n",
    "\n",
    "Vi begynner med å importere pyplot fra matplotlib og gir biblioteket et kort navn \"plt\". "
   ]
  },
  {
   "cell_type": "code",
   "execution_count": 57,
   "metadata": {
    "ExecuteTime": {
     "end_time": "2018-12-19T11:48:27.679000Z",
     "start_time": "2018-12-19T11:48:27.319000Z"
    }
   },
   "outputs": [
    {
     "data": {
      "image/png": "[encoded data removed]",
      "text/plain": [
       "<Figure size 432x288 with 1 Axes>"
      ]
     },
     "metadata": {
      "needs_background": "light"
     },
     "output_type": "display_data"
    }
   ],
   "source": [
    "import matplotlib.pyplot as plt\n",
    "\n",
    "plt.plot(x,f)\n",
    "plt.show()"
   ]
  },
  {
   "cell_type": "markdown",
   "metadata": {
    "deletable": false,
    "editable": false,
    "run_control": {
     "frozen": true
    }
   },
   "source": [
    "I koden over har vi importert biblioteket matplotlib og gitt det et kort navn \"plt\".\n",
    "Videre brukte vi funksjonen \"plot\" til å lage figuren. Og kaller funksjonen \"show\" for å vise figuren.\n",
    "\n",
    "funksjonen plot funker slik:\n",
    "\n",
    "\\begin{equation*}\n",
    "plot(x,y, instillinger)\n",
    "\\end{equation*}\n"
   ]
  },
  {
   "cell_type": "markdown",
   "metadata": {
    "deletable": false,
    "editable": false,
    "run_control": {
     "frozen": true
    }
   },
   "source": [
    "For å enklere å se hva vi driver med kan det være lurt å vise dataen som enkeltpunkter. Dette gjør vi ved å gi \"o\" som instilling etter x og y verdiene."
   ]
  },
  {
   "cell_type": "markdown",
   "metadata": {
    "deletable": false,
    "editable": false,
    "run_control": {
     "frozen": true
    }
   },
   "source": [
    "***"
   ]
  },
  {
   "cell_type": "code",
   "execution_count": 58,
   "metadata": {
    "ExecuteTime": {
     "end_time": "2018-12-19T11:48:27.792000Z",
     "start_time": "2018-12-19T11:48:27.682000Z"
    }
   },
   "outputs": [
    {
     "data": {
      "image/png": "[encoded data removed]",
      "text/plain": [
       "<Figure size 432x288 with 1 Axes>"
      ]
     },
     "metadata": {
      "needs_background": "light"
     },
     "output_type": "display_data"
    }
   ],
   "source": [
    "import matplotlib.pyplot as plt\n",
    "\n",
    "plt.plot(x,f,'o')\n",
    "plt.show()"
   ]
  },
  {
   "cell_type": "markdown",
   "metadata": {
    "deletable": false,
    "editable": false,
    "run_control": {
     "frozen": true
    }
   },
   "source": [
    "Vi ser her at vi har en veldig grov tilnærming av formen til $f$. La oss gjøre mindre steg i $x$ for å regne ut flere verdier av $f$"
   ]
  },
  {
   "cell_type": "code",
   "execution_count": 59,
   "metadata": {
    "ExecuteTime": {
     "end_time": "2018-12-19T11:48:27.799000Z",
     "start_time": "2018-12-19T11:48:27.795000Z"
    }
   },
   "outputs": [],
   "source": [
    "x = np.arange(-5,5,0.1)\n",
    "f = x**2.-x+5."
   ]
  },
  {
   "cell_type": "markdown",
   "metadata": {
    "deletable": false,
    "editable": false,
    "run_control": {
     "frozen": true
    }
   },
   "source": [
    "Og så finne minste verdi av $f$ og tilsvarende $x$"
   ]
  },
  {
   "cell_type": "code",
   "execution_count": 60,
   "metadata": {
    "ExecuteTime": {
     "end_time": "2018-12-19T11:48:27.813000Z",
     "start_time": "2018-12-19T11:48:27.802000Z"
    }
   },
   "outputs": [
    {
     "name": "stdout",
     "output_type": "stream",
     "text": [
      "4.75\n",
      "55\n",
      "0.49999999999998046\n"
     ]
    }
   ],
   "source": [
    "f_min = np.min(f)\n",
    "print(f_min)\n",
    "\n",
    "ind_f_min = np.argmin(f)\n",
    "print(ind_f_min)\n",
    "\n",
    "x_f_min = x[ind_f_min]\n",
    "print(x_f_min)"
   ]
  },
  {
   "cell_type": "markdown",
   "metadata": {
    "deletable": false,
    "editable": false,
    "run_control": {
     "frozen": true
    }
   },
   "source": [
    "Vi kan se hvordan dette gikk i et plot"
   ]
  },
  {
   "cell_type": "code",
   "execution_count": 61,
   "metadata": {
    "ExecuteTime": {
     "end_time": "2018-12-19T11:48:28.193000Z",
     "start_time": "2018-12-19T11:48:27.816000Z"
    }
   },
   "outputs": [
    {
     "data": {
      "image/png": "[encoded data removed]",
      "text/plain": [
       "<Figure size 432x288 with 1 Axes>"
      ]
     },
     "metadata": {
      "needs_background": "light"
     },
     "output_type": "display_data"
    }
   ],
   "source": [
    "plt.plot(x,f,'o',alpha=0.2)\n",
    "plt.plot(x_f_min,f_min,'o')\n",
    "plt.xlabel(\"x\")\n",
    "plt.ylabel(\"f(x)\")\n",
    "plt.show()"
   ]
  },
  {
   "cell_type": "markdown",
   "metadata": {
    "deletable": false,
    "editable": false,
    "run_control": {
     "frozen": true
    }
   },
   "source": [
    "Dette ser ut som et mye bedre estimat!"
   ]
  },
  {
   "cell_type": "markdown",
   "metadata": {
    "deletable": false,
    "editable": false,
    "run_control": {
     "frozen": true
    }
   },
   "source": [
    "I koden over har vi brukt \"plot\" to ganger før vi brukte \"show\". Det som skjer da er at plottene blir liggende oppå hverandre. I det ene plottet var serien med punkter og det andre bare et enkelt punkt.\n",
    "\n",
    "I tillegg har vi bruk noen innstillinger:\n",
    " * 'o' gir prikker i stedet for strek\n",
    " * alpha=0.2 gjør punktene gjennomsiktige\n",
    "\n",
    "Vi har også brukt noen nye funksjoner:\n",
    " * xlabel setter merker på aksene. Den tar en tekst som input\n",
    " * ylabel er lik xlabel men virker på y-aksen."
   ]
  },
  {
   "cell_type": "markdown",
   "metadata": {
    "deletable": false,
    "editable": false,
    "run_control": {
     "frozen": true
    }
   },
   "source": [
    "***\n",
    "## Test selv\n",
    "Kan du nå regne ut funksjonen $f(x)=2x^3+5$ for $x$ fra og med -3 til 5 med steg på 0.1 og plotte resultatet?\n",
    "\n",
    "Skriv koden i cellen under"
   ]
  },
  {
   "cell_type": "code",
   "execution_count": null,
   "metadata": {},
   "outputs": [],
   "source": []
  },
  {
   "cell_type": "markdown",
   "metadata": {
    "solution2": "hidden",
    "solution2_first": true
   },
   "source": [
    "Trykk på knappen for å se et løsningsforslag"
   ]
  },
  {
   "cell_type": "code",
   "execution_count": 62,
   "metadata": {
    "ExecuteTime": {
     "end_time": "2018-12-19T11:48:28.549000Z",
     "start_time": "2018-12-19T11:48:28.197000Z"
    },
    "solution2": "hidden"
   },
   "outputs": [
    {
     "data": {
      "image/png": "[encoded data removed]",
      "text/plain": [
       "<Figure size 432x288 with 1 Axes>"
      ]
     },
     "metadata": {
      "needs_background": "light"
     },
     "output_type": "display_data"
    }
   ],
   "source": [
    "x = np.arange(-3.,5.,0.1)\n",
    "f = 2.0*x**3.+5.0\n",
    "\n",
    "plt.plot(x,f)\n",
    "plt.xlabel(\"x-verdier\")\n",
    "plt.ylabel(\"f(x)\")\n",
    "plt.show()"
   ]
  },
  {
   "cell_type": "markdown",
   "metadata": {
    "deletable": false,
    "editable": false,
    "run_control": {
     "frozen": true
    }
   },
   "source": [
    "Nyttige lenker:\n",
    " * numpy.array: https://docs.scipy.org/doc/numpy-1.13.0/reference/generated/numpy.array.html\n",
    " * numpy.arange: https://docs.scipy.org/doc/numpy/reference/generated/numpy.arange.html\n",
    " * matplotlib.pyplot.plot: https://matplotlib.org/api/_as_gen/matplotlib.pyplot.plot.html"
   ]
  }
 ],
 "metadata": {
  "hide_input": false,
  "kernelspec": {
   "display_name": "Python 3 (ipykernel)",
   "language": "python",
   "name": "python3"
  },
  "language_info": {
   "codemirror_mode": {
    "name": "ipython",
    "version": 3
   },
   "file_extension": ".py",
   "mimetype": "text/x-python",
   "name": "python",
   "nbconvert_exporter": "python",
   "pygments_lexer": "ipython3",
   "version": "3.9.7"
  },
  "latex_envs": {
   "LaTeX_envs_menu_present": true,
   "autoclose": false,
   "autocomplete": true,
   "bibliofile": "biblio.bib",
   "cite_by": "apalike",
   "current_citInitial": 1,
   "eqLabelWithNumbers": true,
   "eqNumInitial": 1,
   "hotkeys": {
    "equation": "Ctrl-E",
    "itemize": "Ctrl-I"
   },
   "labels_anchors": false,
   "latex_user_defs": false,
   "report_style_numbering": false,
   "user_envs_cfg": false
  },
  "toc": {
   "base_numbering": 1,
   "nav_menu": {},
   "number_sections": true,
   "sideBar": true,
   "skip_h1_title": false,
   "title_cell": "Table of Contents",
   "title_sidebar": "Contents",
   "toc_cell": false,
   "toc_position": {},
   "toc_section_display": true,
   "toc_window_display": false
  }
 },
 "nbformat": 4,
 "nbformat_minor": 2
}
